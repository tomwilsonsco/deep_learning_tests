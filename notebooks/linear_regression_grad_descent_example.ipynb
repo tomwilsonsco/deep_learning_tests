{
  "nbformat": 4,
  "nbformat_minor": 0,
  "metadata": {
    "colab": {
      "name": "linear_regression_grad_descent_ example.ipynb",
      "provenance": []
    },
    "kernelspec": {
      "name": "python3",
      "display_name": "Python 3"
    }
  },
  "cells": [
    {
      "cell_type": "code",
      "metadata": {
        "id": "uZHJUR7MaW6X"
      },
      "source": [
        "import numpy as np\n",
        "import matplotlib.pyplot as plt"
      ],
      "execution_count": 118,
      "outputs": []
    },
    {
      "cell_type": "markdown",
      "metadata": {
        "id": "y11o8ty6YRLO"
      },
      "source": [
        "Notebook that aims to build my intuition on gradient descent, loss functions and learning rates<br>\n",
        "This uses a simple linear regression to show how model parameters are updated by gradient descent using RMSE as a loss function<br><br>\n",
        "Data taken from Deep Learning with PyTorch, but here only using Numpy <br>\n",
        "Some help taken from https://ml-cheatsheet.readthedocs.io/en/latest/linear_regression.html"
      ]
    },
    {
      "cell_type": "code",
      "metadata": {
        "id": "rOkzJZAHQOyc"
      },
      "source": [
        "y = np.array([0.5,  14.0, 15.0, 28.0, 11.0,  8.0,  3.0, -4.0,  6.0, 13.0, 21.0])\n",
        "x = np.array([35.7, 55.9, 58.2, 81.9, 56.3, 48.9, 33.9, 21.8, 48.4, 60.4, 68.4])"
      ],
      "execution_count": 119,
      "outputs": []
    },
    {
      "cell_type": "markdown",
      "metadata": {
        "id": "6rLsQbi-oLBO"
      },
      "source": [
        "x is an array of temperatures in fahrenheit, y equivalent in celcius<br>\n",
        "Can gradient descent be used to estimate weight and bias parameters for a linear formula to convert fahrenheit to celcius?"
      ]
    },
    {
      "cell_type": "code",
      "metadata": {
        "id": "ZT1mBMoOQdEG",
        "colab": {
          "base_uri": "https://localhost:8080/",
          "height": 283
        },
        "outputId": "9ffc343f-aff6-44c5-86dc-3e4ceac6ae6e"
      },
      "source": [
        "plt.scatter(x, y)"
      ],
      "execution_count": 120,
      "outputs": [
        {
          "output_type": "execute_result",
          "data": {
            "text/plain": [
              "<matplotlib.collections.PathCollection at 0x7f9f1c3192e8>"
            ]
          },
          "metadata": {
            "tags": []
          },
          "execution_count": 120
        },
        {
          "output_type": "display_data",
          "data": {
            "image/png": "[encoded data removed]",
            "text/plain": [
              "<Figure size 432x288 with 1 Axes>"
            ]
          },
          "metadata": {
            "tags": [],
            "needs_background": "light"
          }
        }
      ]
    },
    {
      "cell_type": "code",
      "metadata": {
        "id": "IQp4eBuuQjxl"
      },
      "source": [
        "def lin_pred(x, w, b):\n",
        "  \"\"\"linear function\"\"\"\n",
        "  return x * w + b"
      ],
      "execution_count": 121,
      "outputs": []
    },
    {
      "cell_type": "code",
      "metadata": {
        "id": "4oGWbNINTfja"
      },
      "source": [
        "def rmse(y_pred, y):\n",
        "  \"\"\"loss function, rmse used\"\"\"\n",
        "  return ((y_pred - y)**2).mean()"
      ],
      "execution_count": 122,
      "outputs": []
    },
    {
      "cell_type": "code",
      "metadata": {
        "id": "I_F8e3W1RMWF",
        "colab": {
          "base_uri": "https://localhost:8080/"
        },
        "outputId": "6b94121b-4ff1-433d-9540-423346e4f9ea"
      },
      "source": [
        "#Test the rmse with initial parameters\n",
        "y_pred = lin_pred(x, 0, 5)\n",
        "rmse(y_pred, y)"
      ],
      "execution_count": 123,
      "outputs": [
        {
          "output_type": "execute_result",
          "data": {
            "text/plain": [
              "107.38636363636364"
            ]
          },
          "metadata": {
            "tags": []
          },
          "execution_count": 123
        }
      ]
    },
    {
      "cell_type": "markdown",
      "metadata": {
        "id": "CznpK6MgUVRc"
      },
      "source": [
        "For gradient descent, need to calculate the derivative of the loss function (RMSE) with respect to w and b to create a gradient vector. The gradient values are multiplied by the learning rate and then subtracted from the current w and b for the next iteration. For the next iteration, RMSE is calculated again, derivatives calculated and a new gradient vector used to update w and b and the process repeats.\n",
        "\n",
        "Chain rule states:\n",
        "\n",
        "$\\dfrac{\\mathrm{d}f}{\\mathrm{d}w} = \\dfrac{\\mathrm{d}f}{\\mathrm{d}x} \\dfrac{\\mathrm{d}x}{\\mathrm{d}w}$ and $\\dfrac{\\mathrm{d}f}{\\mathrm{d}b} = \\dfrac{\\mathrm{d}f}{\\mathrm{d}x} \\dfrac{\\mathrm{d}x}{\\mathrm{d}b}$\n",
        "\n",
        "This means to calculate the gradient vector for w and b with respect to the RMSE function, we calculate the derivative of the RMSE function with respect to the output of the model (recalling derivative of x^2 = 2x) multiplied by the derivative of the model with respect to the parameter (weight or bias)."
      ]
    },
    {
      "cell_type": "code",
      "metadata": {
        "id": "8NNcXAWWUTl1"
      },
      "source": [
        "def d_rmse(y_pred, y):\n",
        "  \"\"\"the derivative of rmse function\n",
        "  the derivative of f(x) = x**2 is f'(x)= 2*x\n",
        "  the rmse function is ((y_pred - y)**2) therefore:\"\"\"\n",
        "  return 2*(y-y_pred)"
      ],
      "execution_count": 124,
      "outputs": []
    },
    {
      "cell_type": "code",
      "metadata": {
        "id": "VUw928PiQRmj"
      },
      "source": [
        "def d_w(y, x, w, b):\n",
        "  \"\"\"here need to take the derivative of the inner function\n",
        "  y - (x * w + b) with respect to w\n",
        "  y - (x * w + b) = y - x * w - b = 0 - x - 0 = -x \"\"\"\n",
        "  return -x"
      ],
      "execution_count": 125,
      "outputs": []
    },
    {
      "cell_type": "code",
      "metadata": {
        "id": "FzwerUntStxR"
      },
      "source": [
        "def d_b(y, x, w, b):\n",
        "  \"\"\"here need to take the derivative of the inner function\n",
        "  y - (x * w + b) with respect to b\n",
        "  y - (x * w + b) = y - x * w - b = 0 - 0 - 1 = -1 \"\"\"\n",
        "  return -1"
      ],
      "execution_count": 126,
      "outputs": []
    },
    {
      "cell_type": "code",
      "metadata": {
        "id": "1aWYAWvwar0b"
      },
      "source": [
        "def grad_fn(x, y, y_pred, w, b):\n",
        "  \"\"\"want to return the gradient vector for w and b\n",
        "  with respect to the loss function rmse\"\"\"\n",
        "  dloss_ypred = d_rmse(y_pred, y)\n",
        "  dloss_w = dloss_ypred * d_w(y, x, w, b) #applying the chain rule\n",
        "  dloss_b = dloss_ypred * d_b(y, x, w, b) #applying the chain rule\n",
        "  return np.array([dloss_w.mean(), dloss_b.mean()]) \n"
      ],
      "execution_count": 127,
      "outputs": []
    },
    {
      "cell_type": "code",
      "metadata": {
        "id": "_fyXKOspaFRA",
        "colab": {
          "base_uri": "https://localhost:8080/"
        },
        "outputId": "27d6ea77-95e6-41fc-a674-322756db7328"
      },
      "source": [
        "w = 0\n",
        "b = 0\n",
        "y_pred = lin_pred(x, w, b)\n",
        "grad_fn(x, y, y_pred, w, b)"
      ],
      "execution_count": 128,
      "outputs": [
        {
          "output_type": "execute_result",
          "data": {
            "text/plain": [
              "array([-1364.3,   -21. ])"
            ]
          },
          "metadata": {
            "tags": []
          },
          "execution_count": 128
        }
      ]
    },
    {
      "cell_type": "markdown",
      "metadata": {
        "id": "fgJNBBDxNpt8"
      },
      "source": [
        "Above result shows that the two grad values for w and b are different orders of magnitude and so the learning rate to update one sensibly will be too small for the other. One way to solve this is to scale the values so in -1 to 1 range (min max scaling). However in this case we know works well if simple multiply x by 0.1"
      ]
    },
    {
      "cell_type": "code",
      "metadata": {
        "id": "24TL8mOSlv7H",
        "colab": {
          "base_uri": "https://localhost:8080/"
        },
        "outputId": "02533b81-2446-4154-80cc-a240baccc180"
      },
      "source": [
        "x = x*0.1\n",
        "y_pred = lin_pred(x, w, b)\n",
        "grad_fn(x, y, y_pred, w, b)"
      ],
      "execution_count": 129,
      "outputs": [
        {
          "output_type": "execute_result",
          "data": {
            "text/plain": [
              "array([-136.43,  -21.  ])"
            ]
          },
          "metadata": {
            "tags": []
          },
          "execution_count": 129
        }
      ]
    },
    {
      "cell_type": "code",
      "metadata": {
        "id": "lA8H034lcHwi"
      },
      "source": [
        "def training_loop(n_epochs, learning_rate, params, x, y):\n",
        "  \"\"\"iterate over n epochs. For each iteration a new grad\n",
        "  of w,b with respect to loss function is calculated and\n",
        "  learning rate * grad is used to update w and b.\n",
        "  The loss after every 100 iterations is stored in a list and\n",
        "  returned for plotting\"\"\"\n",
        "  loss_vals =[]\n",
        "  for epoch in range(0, n_epochs+1):\n",
        "    w, b = params\n",
        "    y_pred = lin_pred(x, w, b)\n",
        "    loss = rmse(y_pred, y)\n",
        "    grad = grad_fn(x, y, y_pred, w, b)\n",
        "    params -= learning_rate * grad\n",
        "    #print every 100 iterations\n",
        "    if epoch % 100 ==0:\n",
        "        loss_vals.append(loss)\n",
        "        print(f\"epoch: {epoch} weight: {params[0]} bias: {params[1]} loss: {loss}\")\n",
        "  return loss_vals, w, b"
      ],
      "execution_count": 130,
      "outputs": []
    },
    {
      "cell_type": "code",
      "metadata": {
        "id": "pyBEgBEiel_j",
        "colab": {
          "base_uri": "https://localhost:8080/"
        },
        "outputId": "bbe3d999-06b1-46e5-b423-6df30d194df8"
      },
      "source": [
        "training_loss, w, b = training_loop(5000, 0.01, [0, 0], x, y)"
      ],
      "execution_count": 131,
      "outputs": [
        {
          "output_type": "stream",
          "text": [
            "epoch: 0 weight: 1.3643 bias: 0.21 loss: 187.38636363636363\n",
            "epoch: 100 weight: 2.7342259414252648 bias: -2.397056118790444 loss: 22.459697581227907\n",
            "epoch: 200 weight: 3.1459794955058857 bias: -4.727918563979814 loss: 16.829406108479255\n",
            "epoch: 300 weight: 3.4933543054368017 bias: -6.694344574996666 loss: 12.82209731319516\n",
            "epoch: 400 weight: 3.786416156096415 bias: -8.353314740646871 loss: 9.96993169113339\n",
            "epoch: 500 weight: 4.033657020594096 bias: -9.75290058577831 loss: 7.939928726239765\n",
            "epoch: 600 weight: 4.242241129852861 bias: -10.933657526711324 loss: 6.495092561887586\n",
            "epoch: 700 weight: 4.418212568569782 bias: -11.929800034447648 loss: 5.466743550619355\n",
            "epoch: 800 weight: 4.566670413005514 bias: -12.770193058040736 loss: 4.7348254860888375\n",
            "epoch: 900 weight: 4.69191648552276 bias: -13.479188436331395 loss: 4.213889454336911\n",
            "epoch: 1000 weight: 4.797580007316559 bias: -14.077330534522954 loss: 3.8431179672968594\n",
            "epoch: 1100 weight: 4.886722761364447 bias: -14.581951552633925 loss: 3.579224730463991\n",
            "epoch: 1200 weight: 4.961927812874555 bias: -15.007673755918471 loss: 3.3914011170516436\n",
            "epoch: 1300 weight: 5.025374358059818 bias: -15.366833180248253 loss: 3.2577193668914077\n",
            "epoch: 1400 weight: 5.0789008701107345 bias: -15.669837090050647 loss: 3.162572595933101\n",
            "epoch: 1500 weight: 5.124058372130283 bias: -15.925465546764148 loss: 3.094852746268209\n",
            "epoch: 1600 weight: 5.162155380706252 bias: -16.14112582627784 loss: 3.0466537586152667\n",
            "epoch: 1700 weight: 5.194295822438595 bias: -16.323067057539316 loss: 3.012348567120252\n",
            "epoch: 1800 weight: 5.221411022118652 bias: -16.47656130185537 loss: 2.9879321587926766\n",
            "epoch: 1900 weight: 5.244286689472948 bias: -16.606056319970826 loss: 2.9705540020286945\n",
            "epoch: 2000 weight: 5.263585686459107 bias: -16.71530445361548 loss: 2.9581852568610247\n",
            "epoch: 2100 weight: 5.279867234835524 bias: -16.807471356084264 loss: 2.9493819148783005\n",
            "epoch: 2200 weight: 5.293603120577342 bias: -16.885227722507146 loss: 2.943116216214911\n",
            "epoch: 2300 weight: 5.30519136468965 bias: -16.950826677851623 loss: 2.938656662125409\n",
            "epoch: 2400 weight: 5.314967756553306 bias: -17.00616906510881 loss: 2.9354826150245774\n",
            "epoch: 2500 weight: 5.3232155840020114 bias: -17.05285852550099 loss: 2.9332235158419935\n",
            "epoch: 2600 weight: 5.330173842076393 bias: -17.09224796675482 loss: 2.9316156225264165\n",
            "epoch: 2700 weight: 5.336044158317954 bias: -17.125478765938542 loss: 2.9304712190694038\n",
            "epoch: 2800 weight: 5.340996635275193 bias: -17.153513842833192 loss: 2.9296567003076603\n",
            "epoch: 2900 weight: 5.345174779518658 bias: -17.177165562195817 loss: 2.929076973980232\n",
            "epoch: 3000 weight: 5.348699659991585 bias: -17.197119273430854 loss: 2.928664359034448\n",
            "epoch: 3100 weight: 5.351673416191568 bias: -17.213953169772484 loss: 2.928370684096076\n",
            "epoch: 3200 weight: 5.354182217838848 bias: -17.2281550424318 loss: 2.9281616636272036\n",
            "epoch: 3300 weight: 5.356298761792726 bias: -17.240136415189347 loss: 2.92801289520778\n",
            "epoch: 3400 weight: 5.358084378568593 bias: -17.250244469007274 loss: 2.92790701063706\n",
            "epoch: 3500 weight: 5.359590809495489 bias: -17.258772102197025 loss: 2.927831648255982\n",
            "epoch: 3600 weight: 5.360861706010453 bias: -17.265966417653665 loss: 2.9277780097660466\n",
            "epoch: 3700 weight: 5.361933894534269 bias: -17.2720358830889 loss: 2.9277398330582263\n",
            "epoch: 3800 weight: 5.3628384435806105 bias: -17.277156371742986 loss: 2.9277126611333313\n",
            "epoch: 3900 weight: 5.363601564019846 bias: -17.28147625861547 loss: 2.9276933217626935\n",
            "epoch: 4000 weight: 5.364245368584266 bias: -17.28512071988696 loss: 2.9276795571413685\n",
            "epoch: 4100 weight: 5.36478851262269 bias: -17.28819536011519 loss: 2.927669760297213\n",
            "epoch: 4200 weight: 5.365246734671395 bias: -17.29078927230927 loss: 2.927662787482411\n",
            "epoch: 4300 weight: 5.365633312505386 bias: -17.292977619553536 loss: 2.9276578246448306\n",
            "epoch: 4400 weight: 5.365959447884853 bias: -17.294823812987723 loss: 2.927654292390282\n",
            "epoch: 4500 weight: 5.366234591145502 bias: -17.296381349254116 loss: 2.927651778340201\n",
            "epoch: 4600 weight: 5.366466715038362 bias: -17.297695360655194 loss: 2.9276499889879\n",
            "epoch: 4700 weight: 5.366662545753997 bias: -17.298803922940003 loss: 2.9276487154326603\n",
            "epoch: 4800 weight: 5.366827757825514 bias: -17.299739158614777 loss: 2.9276478089912916\n",
            "epoch: 4900 weight: 5.366967138557928 bias: -17.300528167747903 loss: 2.9276471638398816\n",
            "epoch: 5000 weight: 5.367084726748605 bias: -17.301193813241255 loss: 2.9276467046592276\n"
          ],
          "name": "stdout"
        }
      ]
    },
    {
      "cell_type": "markdown",
      "metadata": {
        "id": "w0bh32ublZt6"
      },
      "source": [
        "The final parameters have settled at 5.37 and -17.3. As x was multiplied by 0.1, w should actually be 0.537.\n",
        "How well does this calculate 32F = 0C:"
      ]
    },
    {
      "cell_type": "code",
      "metadata": {
        "colab": {
          "base_uri": "https://localhost:8080/"
        },
        "id": "gCC6MTUxnVTo",
        "outputId": "7f4af70b-214e-46ec-c913-70948abb9708"
      },
      "source": [
        "32*(w/10) + b"
      ],
      "execution_count": 134,
      "outputs": [
        {
          "output_type": "execute_result",
          "data": {
            "text/plain": [
              "-0.12652003077642604"
            ]
          },
          "metadata": {
            "tags": []
          },
          "execution_count": 134
        }
      ]
    },
    {
      "cell_type": "markdown",
      "metadata": {
        "id": "TvHm9OSElJFD"
      },
      "source": [
        "Plot the loss over the iterations"
      ]
    },
    {
      "cell_type": "code",
      "metadata": {
        "colab": {
          "base_uri": "https://localhost:8080/",
          "height": 283
        },
        "id": "8P4viNFWgotm",
        "outputId": "badb8ade-866f-413d-a452-f3a5d214ef4a"
      },
      "source": [
        "plt.plot([i for i in range(0, 5100, 100)], training_loss)"
      ],
      "execution_count": 135,
      "outputs": [
        {
          "output_type": "execute_result",
          "data": {
            "text/plain": [
              "[<matplotlib.lines.Line2D at 0x7f9f1c26cc18>]"
            ]
          },
          "metadata": {
            "tags": []
          },
          "execution_count": 135
        },
        {
          "output_type": "display_data",
          "data": {
            "image/png": "[encoded data removed]",
            "text/plain": [
              "<Figure size 432x288 with 1 Axes>"
            ]
          },
          "metadata": {
            "tags": [],
            "needs_background": "light"
          }
        }
      ]
    }
  ]
}